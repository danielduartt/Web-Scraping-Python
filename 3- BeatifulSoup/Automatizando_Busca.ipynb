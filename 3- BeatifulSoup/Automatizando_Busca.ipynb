{
  "nbformat": 4,
  "nbformat_minor": 0,
  "metadata": {
    "colab": {
      "provenance": [],
      "authorship_tag": "ABX9TyNj+UOiqtgQ5D2XDACkfotp",
      "include_colab_link": true
    },
    "kernelspec": {
      "name": "python3",
      "display_name": "Python 3"
    },
    "language_info": {
      "name": "python"
    }
  },
  "cells": [
    {
      "cell_type": "markdown",
      "metadata": {
        "id": "view-in-github",
        "colab_type": "text"
      },
      "source": [
        "<a href=\"https://colab.research.google.com/github/danielduartt/Web-Scraping-Python/blob/main/Automatizando_Busca.ipynb\" target=\"_parent\"><img src=\"https://colab.research.google.com/assets/colab-badge.svg\" alt=\"Open In Colab\"/></a>"
      ]
    },
    {
      "cell_type": "code",
      "execution_count": 3,
      "metadata": {
        "id": "Y3nCMTkwRxsp"
      },
      "outputs": [],
      "source": [
        "import requests\n",
        "from bs4 import BeautifulSoup\n"
      ]
    },
    {
      "cell_type": "code",
      "source": [
        "response = requests.get(\"https://g1.globo.com/\")\n",
        "print(f\"Código de status: {response.status_code}\")"
      ],
      "metadata": {
        "colab": {
          "base_uri": "https://localhost:8080/"
        },
        "id": "8oTBxxkYSCYS",
        "outputId": "0049a68c-a68c-41e2-fa5d-c3e84b109a86"
      },
      "execution_count": 4,
      "outputs": [
        {
          "output_type": "stream",
          "name": "stdout",
          "text": [
            "Código de status: 200\n"
          ]
        }
      ]
    },
    {
      "cell_type": "markdown",
      "source": [
        "##**Transformando a página em html para um obj do BeautifulSoup:**\n"
      ],
      "metadata": {
        "id": "KrOWQmuETujS"
      }
    },
    {
      "cell_type": "code",
      "source": [
        "site = BeautifulSoup(response.content, \"html.parser\")\n",
        "type(site)"
      ],
      "metadata": {
        "colab": {
          "base_uri": "https://localhost:8080/"
        },
        "id": "ilfEzYNDScHo",
        "outputId": "5cc53a58-5639-4408-aa96-e02758401796"
      },
      "execution_count": 46,
      "outputs": [
        {
          "output_type": "execute_result",
          "data": {
            "text/plain": [
              "bs4.BeautifulSoup"
            ]
          },
          "metadata": {},
          "execution_count": 46
        }
      ]
    },
    {
      "cell_type": "code",
      "source": [
        "noticia = site.find(\"div\", attrs = {'class': 'feed-post-body'})"
      ],
      "metadata": {
        "id": "P0vOhCb7Sozb"
      },
      "execution_count": 9,
      "outputs": []
    },
    {
      "cell_type": "code",
      "source": [
        "titulo = noticia.find(\"h2\", attrs={\"elementtiming\": \"text-ssr\"})"
      ],
      "metadata": {
        "id": "6JDPyi3XS6Hy"
      },
      "execution_count": 10,
      "outputs": []
    },
    {
      "cell_type": "code",
      "source": [
        "print(f\"Título: {titulo.text}\")"
      ],
      "metadata": {
        "colab": {
          "base_uri": "https://localhost:8080/"
        },
        "id": "HIOMOLr2TUOm",
        "outputId": "a55ba3b7-9e3c-4cec-965b-3eebf615ee63"
      },
      "execution_count": 13,
      "outputs": [
        {
          "output_type": "stream",
          "name": "stdout",
          "text": [
            "Título: Depois de setembro, 2023 ainda terá 5 feriados em dias de semana\n"
          ]
        }
      ]
    },
    {
      "cell_type": "code",
      "source": [
        "print(f\"Notícia:\\n{noticia.text}\")"
      ],
      "metadata": {
        "colab": {
          "base_uri": "https://localhost:8080/"
        },
        "id": "crVHOwpVTi55",
        "outputId": "e9e9f098-e3cf-4693-d48e-d7949b8ae169"
      },
      "execution_count": 17,
      "outputs": [
        {
          "output_type": "stream",
          "name": "stdout",
          "text": [
            "Notícia:\n",
            "Calendário de folgas 📅😎Depois de setembro, 2023 ainda terá 5 feriados em dias de semanaHá 6 horas Trabalho e Carreira \n"
          ]
        }
      ]
    },
    {
      "cell_type": "markdown",
      "source": [
        "##**Procurando vária notícias:**\n"
      ],
      "metadata": {
        "id": "gyq1iVbQVjeU"
      }
    },
    {
      "cell_type": "code",
      "source": [
        "noticias = site.findAll(\"div\", attrs = {\"class\": \"feed-post-body\"}) #vou procurar todas as ocorrências\n",
        "#das divs de classe \"feed-post-body\"\n",
        "#retorna uma lista\n",
        "noticias[:1]#nao quero que apareça tudo pra nao ficar gigante aki no colab kk"
      ],
      "metadata": {
        "colab": {
          "base_uri": "https://localhost:8080/"
        },
        "id": "BiJqANsnVpKU",
        "outputId": "19ffc616-c0d1-4213-866a-2832794fde12"
      },
      "execution_count": 22,
      "outputs": [
        {
          "output_type": "execute_result",
          "data": {
            "text/plain": [
              "[<div class=\"feed-post-body\"><div class=\"feed-post-header with-post-chapeu\"><span class=\"feed-post-header-chapeu\">Calendário de folgas 📅😎</span></div><div class=\"feed-post-body-title gui-color-primary gui-color-hover\"><div class=\"_evt\"><a class=\"feed-post-link gui-color-primary gui-color-hover\" href=\"https://g1.globo.com/trabalho-e-carreira/noticia/2023/09/04/depois-de-setembro-2023-ainda-tera-5-feriados-em-dias-de-semana-veja-datas-e-se-programe.ghtml\"><h2 elementtiming=\"text-ssr\">Depois de setembro, 2023 ainda terá 5 feriados em dias de semana</h2></a></div></div><div class=\"feed-media-wrapper\"><a class=\"feed-post-figure-link gui-image-hover\" href=\"https://g1.globo.com/trabalho-e-carreira/noticia/2023/09/04/depois-de-setembro-2023-ainda-tera-5-feriados-em-dias-de-semana-veja-datas-e-se-programe.ghtml\"><div class=\"bstn-fd-item-cover\"><picture class=\"bstn-fd-cover-picture\"><img alt=\"Depois de setembro, 2023 ainda terá 5 feriados em dias de semana - Foto: (Stephanie Rodrigues/g1)\" class=\"bstn-fd-picture-image\" elementtiming=\"image-ssr\" loading=\"lazy\" sizes=\"(min-width: 540px) 50vw, (min-width: 900px) 30vw, 100vw\" src=\"https://s2-g1.glbimg.com/zRpd-QgIC9at19NQ2ajAeHmwtb8=/0x105:1321x848/540x304/smart/filters:max_age(3600)/https://i.s3.glbimg.com/v1/AUTH_59edd422c0c84a879bd37670ae4f538a/internal_photos/bs/2023/p/p/1eDE9VS5arjq0SfgPyHw/whatsapp-image-2023-08-24-at-15.40.11.jpeg\" srcset=\"https://s2-g1.glbimg.com/zRpd-QgIC9at19NQ2ajAeHmwtb8=/0x105:1321x848/540x304/smart/filters:max_age(3600)/https://i.s3.glbimg.com/v1/AUTH_59edd422c0c84a879bd37670ae4f538a/internal_photos/bs/2023/p/p/1eDE9VS5arjq0SfgPyHw/whatsapp-image-2023-08-24-at-15.40.11.jpeg 540w,https://s2-g1.glbimg.com/6WboV87CmA-ZJN5L5S4TXMpv-BU=/0x105:1321x848/810x456/smart/filters:max_age(3600)/https://i.s3.glbimg.com/v1/AUTH_59edd422c0c84a879bd37670ae4f538a/internal_photos/bs/2023/p/p/1eDE9VS5arjq0SfgPyHw/whatsapp-image-2023-08-24-at-15.40.11.jpeg 810w,https://s2-g1.glbimg.com/bFEPvTv0VXGAlaJwaMy39OJuUd4=/0x105:1321x848/1080x608/smart/filters:max_age(3600)/https://i.s3.glbimg.com/v1/AUTH_59edd422c0c84a879bd37670ae4f538a/internal_photos/bs/2023/p/p/1eDE9VS5arjq0SfgPyHw/whatsapp-image-2023-08-24-at-15.40.11.jpeg 1080w\" title=\"Depois de setembro, 2023 ainda terá 5 feriados em dias de semana - Foto: (Stephanie Rodrigues/g1)\"/></picture></div></a></div><div class=\"feed-post-metadata\"><span class=\"feed-post-datetime\">Há 6 horas</span><span class=\"feed-post-metadata-section\"> Trabalho e Carreira </span></div></div>]"
            ]
          },
          "metadata": {},
          "execution_count": 22
        }
      ]
    },
    {
      "cell_type": "code",
      "source": [
        "#Vamos percorrer essa lista com o for\n",
        "for news in noticias:\n",
        "  titulo = news.find(\"a\", attrs={\"class\": \"feed-post-link\"})\n",
        "  subtitulo = news.find(\"div\", attrs={\"class\":\"feed-post-body-resumo\"})\n",
        "  print(titulo.text)\n",
        "  if subtitulo: #ou só o subtitulo, pois ja retorna True caso tenha encontrado\n",
        "    print(subtitulo.text)\n",
        "  else:\n",
        "    print(\"Subtitulo não informado\")\n",
        "  print(titulo['href']) #consigo acessar os links\n",
        "  print(\"--------------------------------------------------------------------------------------\")\n",
        "  #É importante ressaltar que só está pegando as informações ja carregadas inicialmente\n",
        "  #o Resto da página não pode ser pega com o BeautifulSoup\n",
        "  #Com o selenium conseguimos pegar os conteúdos dinâmicos\n"
      ],
      "metadata": {
        "colab": {
          "base_uri": "https://localhost:8080/"
        },
        "id": "8ZuVtlsrWWo7",
        "outputId": "9dfe48b8-c089-402b-c47f-ec1df43bfc10"
      },
      "execution_count": 53,
      "outputs": [
        {
          "output_type": "stream",
          "name": "stdout",
          "text": [
            "Depois de setembro, 2023 ainda terá 5 feriados em dias de semana\n",
            "Subtitulo não informado\n",
            "https://g1.globo.com/trabalho-e-carreira/noticia/2023/09/04/depois-de-setembro-2023-ainda-tera-5-feriados-em-dias-de-semana-veja-datas-e-se-programe.ghtml\n",
            "--------------------------------------------------------------------------------------\n",
            "Porteiro que nada fez durante agressão a Victor Meyniel é autuado por omissão\n",
            "Vídeo mostra o funcionário sentado, sem esboçar reação, enquanto ator levava socos.\n",
            "https://g1.globo.com/rj/rio-de-janeiro/noticia/2023/09/04/porteiro-victor-meyniel-omissao-de-socorro.ghtml\n",
            "--------------------------------------------------------------------------------------\n",
            "Polícia identifica mais 3 suspeitos do ataque a tiros contra Mingau\n",
            "Baleado na cabeça, músico passou por cirurgia e está em estado grave.\n",
            "https://g1.globo.com/rj/sul-do-rio-costa-verde/noticia/2023/09/04/investigacao-caso-mingau.ghtml\n",
            "--------------------------------------------------------------------------------------\n",
            "Ator agredido, prefeito se joga em multidão e mais VÍDEOS do dia\n",
            "Subtitulo não informado\n",
            "https://g1.globo.com/playlist/videos-para-assistir-agora.ghtml\n",
            "--------------------------------------------------------------------------------------\n",
            "'Não queria acreditar': mulheres relatam importunação sexual em voos\n",
            "Subtitulo não informado\n",
            "https://g1.globo.com/fantastico/noticia/2023/09/03/nao-queria-acreditar-estava-se-masturbando-mulheres-relatam-importunacao-sexual-em-voos.ghtml\n",
            "--------------------------------------------------------------------------------------\n",
            "Brasil perdeu mais de 400 mil empresas no 1º semestre de 2023\n",
            "Subtitulo não informado\n",
            "https://g1.globo.com/economia/noticia/2023/09/04/brasil-perdeu-mais-de-400-mil-empresas-no-primeiro-semestre-de-2023.ghtml\n",
            "--------------------------------------------------------------------------------------\n",
            "Semana começa com temporais no Sul e calorão no Sudeste; veja a previsão\n",
            "Subtitulo não informado\n",
            "https://www.climatempo.com.br/noticia/2023/09/04/temporais-no-sul-calor-no-sudeste-e-ar-seco-no-interior-do-br-2044\n",
            "--------------------------------------------------------------------------------------\n"
          ]
        }
      ]
    },
    {
      "cell_type": "code",
      "source": [
        "#Acessando atributos\n",
        "print(titulo['href']) #\"acessando o título na posição href\" => Estou pegando o link\n"
      ],
      "metadata": {
        "colab": {
          "base_uri": "https://localhost:8080/"
        },
        "id": "tU5l4s00edtf",
        "outputId": "5344469f-6d02-496d-92dd-ef8ba3b91c91"
      },
      "execution_count": 49,
      "outputs": [
        {
          "output_type": "stream",
          "name": "stdout",
          "text": [
            "https://www.climatempo.com.br/noticia/2023/09/04/temporais-no-sul-calor-no-sudeste-e-ar-seco-no-interior-do-br-2044\n"
          ]
        }
      ]
    },
    {
      "cell_type": "markdown",
      "source": [
        "##**Salvando em um DF, para depois salvar em um Arquivo CSV:**\n",
        "\n",
        "\n"
      ],
      "metadata": {
        "id": "fnWw3Nzee_9h"
      }
    },
    {
      "cell_type": "code",
      "source": [
        "import pandas as pd"
      ],
      "metadata": {
        "id": "o_c6tRELfMvS"
      },
      "execution_count": 52,
      "outputs": []
    },
    {
      "cell_type": "code",
      "source": [
        "lista_news = list()\n",
        "\n",
        "#Pegar as notícias e salvar em uma lista de listas\n",
        "for news in noticias:\n",
        "  titulo = news.find(\"a\", attrs={\"class\": \"feed-post-link\"})\n",
        "  subtitulo = news.find(\"div\", attrs={\"class\":\"feed-post-body-resumo\"})\n",
        "  if subtitulo:\n",
        "    lista_news.append([titulo.text, subtitulo.text, titulo['href']])\n",
        "  else:\n",
        "    lista_news.append([titulo.text, \"Não informado \", titulo['href']])\n",
        "print(lista_news)"
      ],
      "metadata": {
        "colab": {
          "base_uri": "https://localhost:8080/"
        },
        "id": "lpj3B0gqfPl_",
        "outputId": "ed95f50d-651a-477c-8a50-a837cf7d86a5"
      },
      "execution_count": 57,
      "outputs": [
        {
          "output_type": "stream",
          "name": "stdout",
          "text": [
            "[['Depois de setembro, 2023 ainda terá 5 feriados em dias de semana', 'Não informado ', 'https://g1.globo.com/trabalho-e-carreira/noticia/2023/09/04/depois-de-setembro-2023-ainda-tera-5-feriados-em-dias-de-semana-veja-datas-e-se-programe.ghtml'], ['Porteiro que nada fez durante agressão a Victor Meyniel é autuado por omissão', 'Vídeo mostra o funcionário sentado, sem esboçar reação, enquanto ator levava socos.', 'https://g1.globo.com/rj/rio-de-janeiro/noticia/2023/09/04/porteiro-victor-meyniel-omissao-de-socorro.ghtml'], ['Polícia identifica mais 3 suspeitos do ataque a tiros contra Mingau', 'Baleado na cabeça, músico passou por cirurgia e está em estado grave.', 'https://g1.globo.com/rj/sul-do-rio-costa-verde/noticia/2023/09/04/investigacao-caso-mingau.ghtml'], ['Ator agredido, prefeito se joga em multidão e mais VÍDEOS do dia', 'Não informado ', 'https://g1.globo.com/playlist/videos-para-assistir-agora.ghtml'], [\"'Não queria acreditar': mulheres relatam importunação sexual em voos\", 'Não informado ', 'https://g1.globo.com/fantastico/noticia/2023/09/03/nao-queria-acreditar-estava-se-masturbando-mulheres-relatam-importunacao-sexual-em-voos.ghtml'], ['Brasil perdeu mais de 400 mil empresas no 1º semestre de 2023', 'Não informado ', 'https://g1.globo.com/economia/noticia/2023/09/04/brasil-perdeu-mais-de-400-mil-empresas-no-primeiro-semestre-de-2023.ghtml'], ['Semana começa com temporais no Sul e calorão no Sudeste; veja a previsão', 'Não informado ', 'https://www.climatempo.com.br/noticia/2023/09/04/temporais-no-sul-calor-no-sudeste-e-ar-seco-no-interior-do-br-2044']]\n"
          ]
        }
      ]
    },
    {
      "cell_type": "code",
      "source": [
        "news_df = pd.DataFrame(lista_news, columns = ['Título', 'Subtitulo', 'Link'], index = range(1,8))\n",
        "display(news_df)"
      ],
      "metadata": {
        "colab": {
          "base_uri": "https://localhost:8080/",
          "height": 269
        },
        "id": "pTB8ZUZhgpxw",
        "outputId": "5a335a81-ed85-4b6d-c67c-a2de5aad43ad"
      },
      "execution_count": 69,
      "outputs": [
        {
          "output_type": "display_data",
          "data": {
            "text/plain": [
              "                                              Título  \\\n",
              "1  Depois de setembro, 2023 ainda terá 5 feriados...   \n",
              "2  Porteiro que nada fez durante agressão a Victo...   \n",
              "3  Polícia identifica mais 3 suspeitos do ataque ...   \n",
              "4  Ator agredido, prefeito se joga em multidão e ...   \n",
              "5  'Não queria acreditar': mulheres relatam impor...   \n",
              "6  Brasil perdeu mais de 400 mil empresas no 1º s...   \n",
              "7  Semana começa com temporais no Sul e calorão n...   \n",
              "\n",
              "                                           Subtitulo  \\\n",
              "1                                     Não informado    \n",
              "2  Vídeo mostra o funcionário sentado, sem esboça...   \n",
              "3  Baleado na cabeça, músico passou por cirurgia ...   \n",
              "4                                     Não informado    \n",
              "5                                     Não informado    \n",
              "6                                     Não informado    \n",
              "7                                     Não informado    \n",
              "\n",
              "                                                Link  \n",
              "1  https://g1.globo.com/trabalho-e-carreira/notic...  \n",
              "2  https://g1.globo.com/rj/rio-de-janeiro/noticia...  \n",
              "3  https://g1.globo.com/rj/sul-do-rio-costa-verde...  \n",
              "4  https://g1.globo.com/playlist/videos-para-assi...  \n",
              "5  https://g1.globo.com/fantastico/noticia/2023/0...  \n",
              "6  https://g1.globo.com/economia/noticia/2023/09/...  \n",
              "7  https://www.climatempo.com.br/noticia/2023/09/...  "
            ],
            "text/html": [
              "\n",
              "  <div id=\"df-52ce9c92-462a-4e49-8ab6-5c4c0fb141f7\" class=\"colab-df-container\">\n",
              "    <div>\n",
              "<style scoped>\n",
              "    .dataframe tbody tr th:only-of-type {\n",
              "        vertical-align: middle;\n",
              "    }\n",
              "\n",
              "    .dataframe tbody tr th {\n",
              "        vertical-align: top;\n",
              "    }\n",
              "\n",
              "    .dataframe thead th {\n",
              "        text-align: right;\n",
              "    }\n",
              "</style>\n",
              "<table border=\"1\" class=\"dataframe\">\n",
              "  <thead>\n",
              "    <tr style=\"text-align: right;\">\n",
              "      <th></th>\n",
              "      <th>Título</th>\n",
              "      <th>Subtitulo</th>\n",
              "      <th>Link</th>\n",
              "    </tr>\n",
              "  </thead>\n",
              "  <tbody>\n",
              "    <tr>\n",
              "      <th>1</th>\n",
              "      <td>Depois de setembro, 2023 ainda terá 5 feriados...</td>\n",
              "      <td>Não informado</td>\n",
              "      <td>https://g1.globo.com/trabalho-e-carreira/notic...</td>\n",
              "    </tr>\n",
              "    <tr>\n",
              "      <th>2</th>\n",
              "      <td>Porteiro que nada fez durante agressão a Victo...</td>\n",
              "      <td>Vídeo mostra o funcionário sentado, sem esboça...</td>\n",
              "      <td>https://g1.globo.com/rj/rio-de-janeiro/noticia...</td>\n",
              "    </tr>\n",
              "    <tr>\n",
              "      <th>3</th>\n",
              "      <td>Polícia identifica mais 3 suspeitos do ataque ...</td>\n",
              "      <td>Baleado na cabeça, músico passou por cirurgia ...</td>\n",
              "      <td>https://g1.globo.com/rj/sul-do-rio-costa-verde...</td>\n",
              "    </tr>\n",
              "    <tr>\n",
              "      <th>4</th>\n",
              "      <td>Ator agredido, prefeito se joga em multidão e ...</td>\n",
              "      <td>Não informado</td>\n",
              "      <td>https://g1.globo.com/playlist/videos-para-assi...</td>\n",
              "    </tr>\n",
              "    <tr>\n",
              "      <th>5</th>\n",
              "      <td>'Não queria acreditar': mulheres relatam impor...</td>\n",
              "      <td>Não informado</td>\n",
              "      <td>https://g1.globo.com/fantastico/noticia/2023/0...</td>\n",
              "    </tr>\n",
              "    <tr>\n",
              "      <th>6</th>\n",
              "      <td>Brasil perdeu mais de 400 mil empresas no 1º s...</td>\n",
              "      <td>Não informado</td>\n",
              "      <td>https://g1.globo.com/economia/noticia/2023/09/...</td>\n",
              "    </tr>\n",
              "    <tr>\n",
              "      <th>7</th>\n",
              "      <td>Semana começa com temporais no Sul e calorão n...</td>\n",
              "      <td>Não informado</td>\n",
              "      <td>https://www.climatempo.com.br/noticia/2023/09/...</td>\n",
              "    </tr>\n",
              "  </tbody>\n",
              "</table>\n",
              "</div>\n",
              "    <div class=\"colab-df-buttons\">\n",
              "\n",
              "  <div class=\"colab-df-container\">\n",
              "    <button class=\"colab-df-convert\" onclick=\"convertToInteractive('df-52ce9c92-462a-4e49-8ab6-5c4c0fb141f7')\"\n",
              "            title=\"Convert this dataframe to an interactive table.\"\n",
              "            style=\"display:none;\">\n",
              "\n",
              "  <svg xmlns=\"http://www.w3.org/2000/svg\" height=\"24px\" viewBox=\"0 -960 960 960\">\n",
              "    <path d=\"M120-120v-720h720v720H120Zm60-500h600v-160H180v160Zm220 220h160v-160H400v160Zm0 220h160v-160H400v160ZM180-400h160v-160H180v160Zm440 0h160v-160H620v160ZM180-180h160v-160H180v160Zm440 0h160v-160H620v160Z\"/>\n",
              "  </svg>\n",
              "    </button>\n",
              "\n",
              "  <style>\n",
              "    .colab-df-container {\n",
              "      display:flex;\n",
              "      gap: 12px;\n",
              "    }\n",
              "\n",
              "    .colab-df-convert {\n",
              "      background-color: #E8F0FE;\n",
              "      border: none;\n",
              "      border-radius: 50%;\n",
              "      cursor: pointer;\n",
              "      display: none;\n",
              "      fill: #1967D2;\n",
              "      height: 32px;\n",
              "      padding: 0 0 0 0;\n",
              "      width: 32px;\n",
              "    }\n",
              "\n",
              "    .colab-df-convert:hover {\n",
              "      background-color: #E2EBFA;\n",
              "      box-shadow: 0px 1px 2px rgba(60, 64, 67, 0.3), 0px 1px 3px 1px rgba(60, 64, 67, 0.15);\n",
              "      fill: #174EA6;\n",
              "    }\n",
              "\n",
              "    .colab-df-buttons div {\n",
              "      margin-bottom: 4px;\n",
              "    }\n",
              "\n",
              "    [theme=dark] .colab-df-convert {\n",
              "      background-color: #3B4455;\n",
              "      fill: #D2E3FC;\n",
              "    }\n",
              "\n",
              "    [theme=dark] .colab-df-convert:hover {\n",
              "      background-color: #434B5C;\n",
              "      box-shadow: 0px 1px 3px 1px rgba(0, 0, 0, 0.15);\n",
              "      filter: drop-shadow(0px 1px 2px rgba(0, 0, 0, 0.3));\n",
              "      fill: #FFFFFF;\n",
              "    }\n",
              "  </style>\n",
              "\n",
              "    <script>\n",
              "      const buttonEl =\n",
              "        document.querySelector('#df-52ce9c92-462a-4e49-8ab6-5c4c0fb141f7 button.colab-df-convert');\n",
              "      buttonEl.style.display =\n",
              "        google.colab.kernel.accessAllowed ? 'block' : 'none';\n",
              "\n",
              "      async function convertToInteractive(key) {\n",
              "        const element = document.querySelector('#df-52ce9c92-462a-4e49-8ab6-5c4c0fb141f7');\n",
              "        const dataTable =\n",
              "          await google.colab.kernel.invokeFunction('convertToInteractive',\n",
              "                                                    [key], {});\n",
              "        if (!dataTable) return;\n",
              "\n",
              "        const docLinkHtml = 'Like what you see? Visit the ' +\n",
              "          '<a target=\"_blank\" href=https://colab.research.google.com/notebooks/data_table.ipynb>data table notebook</a>'\n",
              "          + ' to learn more about interactive tables.';\n",
              "        element.innerHTML = '';\n",
              "        dataTable['output_type'] = 'display_data';\n",
              "        await google.colab.output.renderOutput(dataTable, element);\n",
              "        const docLink = document.createElement('div');\n",
              "        docLink.innerHTML = docLinkHtml;\n",
              "        element.appendChild(docLink);\n",
              "      }\n",
              "    </script>\n",
              "  </div>\n",
              "\n",
              "\n",
              "<div id=\"df-0dac2d26-ac02-46de-98ec-accec489a7f7\">\n",
              "  <button class=\"colab-df-quickchart\" onclick=\"quickchart('df-0dac2d26-ac02-46de-98ec-accec489a7f7')\"\n",
              "            title=\"Suggest charts.\"\n",
              "            style=\"display:none;\">\n",
              "\n",
              "<svg xmlns=\"http://www.w3.org/2000/svg\" height=\"24px\"viewBox=\"0 0 24 24\"\n",
              "     width=\"24px\">\n",
              "    <g>\n",
              "        <path d=\"M19 3H5c-1.1 0-2 .9-2 2v14c0 1.1.9 2 2 2h14c1.1 0 2-.9 2-2V5c0-1.1-.9-2-2-2zM9 17H7v-7h2v7zm4 0h-2V7h2v10zm4 0h-2v-4h2v4z\"/>\n",
              "    </g>\n",
              "</svg>\n",
              "  </button>\n",
              "\n",
              "<style>\n",
              "  .colab-df-quickchart {\n",
              "      --bg-color: #E8F0FE;\n",
              "      --fill-color: #1967D2;\n",
              "      --hover-bg-color: #E2EBFA;\n",
              "      --hover-fill-color: #174EA6;\n",
              "      --disabled-fill-color: #AAA;\n",
              "      --disabled-bg-color: #DDD;\n",
              "  }\n",
              "\n",
              "  [theme=dark] .colab-df-quickchart {\n",
              "      --bg-color: #3B4455;\n",
              "      --fill-color: #D2E3FC;\n",
              "      --hover-bg-color: #434B5C;\n",
              "      --hover-fill-color: #FFFFFF;\n",
              "      --disabled-bg-color: #3B4455;\n",
              "      --disabled-fill-color: #666;\n",
              "  }\n",
              "\n",
              "  .colab-df-quickchart {\n",
              "    background-color: var(--bg-color);\n",
              "    border: none;\n",
              "    border-radius: 50%;\n",
              "    cursor: pointer;\n",
              "    display: none;\n",
              "    fill: var(--fill-color);\n",
              "    height: 32px;\n",
              "    padding: 0;\n",
              "    width: 32px;\n",
              "  }\n",
              "\n",
              "  .colab-df-quickchart:hover {\n",
              "    background-color: var(--hover-bg-color);\n",
              "    box-shadow: 0 1px 2px rgba(60, 64, 67, 0.3), 0 1px 3px 1px rgba(60, 64, 67, 0.15);\n",
              "    fill: var(--button-hover-fill-color);\n",
              "  }\n",
              "\n",
              "  .colab-df-quickchart-complete:disabled,\n",
              "  .colab-df-quickchart-complete:disabled:hover {\n",
              "    background-color: var(--disabled-bg-color);\n",
              "    fill: var(--disabled-fill-color);\n",
              "    box-shadow: none;\n",
              "  }\n",
              "\n",
              "  .colab-df-spinner {\n",
              "    border: 2px solid var(--fill-color);\n",
              "    border-color: transparent;\n",
              "    border-bottom-color: var(--fill-color);\n",
              "    animation:\n",
              "      spin 1s steps(1) infinite;\n",
              "  }\n",
              "\n",
              "  @keyframes spin {\n",
              "    0% {\n",
              "      border-color: transparent;\n",
              "      border-bottom-color: var(--fill-color);\n",
              "      border-left-color: var(--fill-color);\n",
              "    }\n",
              "    20% {\n",
              "      border-color: transparent;\n",
              "      border-left-color: var(--fill-color);\n",
              "      border-top-color: var(--fill-color);\n",
              "    }\n",
              "    30% {\n",
              "      border-color: transparent;\n",
              "      border-left-color: var(--fill-color);\n",
              "      border-top-color: var(--fill-color);\n",
              "      border-right-color: var(--fill-color);\n",
              "    }\n",
              "    40% {\n",
              "      border-color: transparent;\n",
              "      border-right-color: var(--fill-color);\n",
              "      border-top-color: var(--fill-color);\n",
              "    }\n",
              "    60% {\n",
              "      border-color: transparent;\n",
              "      border-right-color: var(--fill-color);\n",
              "    }\n",
              "    80% {\n",
              "      border-color: transparent;\n",
              "      border-right-color: var(--fill-color);\n",
              "      border-bottom-color: var(--fill-color);\n",
              "    }\n",
              "    90% {\n",
              "      border-color: transparent;\n",
              "      border-bottom-color: var(--fill-color);\n",
              "    }\n",
              "  }\n",
              "</style>\n",
              "\n",
              "  <script>\n",
              "    async function quickchart(key) {\n",
              "      const quickchartButtonEl =\n",
              "        document.querySelector('#' + key + ' button');\n",
              "      quickchartButtonEl.disabled = true;  // To prevent multiple clicks.\n",
              "      quickchartButtonEl.classList.add('colab-df-spinner');\n",
              "      try {\n",
              "        const charts = await google.colab.kernel.invokeFunction(\n",
              "            'suggestCharts', [key], {});\n",
              "      } catch (error) {\n",
              "        console.error('Error during call to suggestCharts:', error);\n",
              "      }\n",
              "      quickchartButtonEl.classList.remove('colab-df-spinner');\n",
              "      quickchartButtonEl.classList.add('colab-df-quickchart-complete');\n",
              "    }\n",
              "    (() => {\n",
              "      let quickchartButtonEl =\n",
              "        document.querySelector('#df-0dac2d26-ac02-46de-98ec-accec489a7f7 button');\n",
              "      quickchartButtonEl.style.display =\n",
              "        google.colab.kernel.accessAllowed ? 'block' : 'none';\n",
              "    })();\n",
              "  </script>\n",
              "</div>\n",
              "    </div>\n",
              "  </div>\n"
            ]
          },
          "metadata": {}
        }
      ]
    },
    {
      "cell_type": "code",
      "source": [
        "news_df.to_csv(\"Noticias.csv\", index = False) #não quero que salve os indíces"
      ],
      "metadata": {
        "id": "eupoE3rhgqN-"
      },
      "execution_count": 70,
      "outputs": []
    }
  ]
}